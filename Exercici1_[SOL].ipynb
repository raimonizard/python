{
  "nbformat": 4,
  "nbformat_minor": 0,
  "metadata": {
    "colab": {
      "provenance": [],
      "authorship_tag": "ABX9TyOnQXz4p8x7/E+lDYUQM7Mj",
      "include_colab_link": true
    },
    "kernelspec": {
      "name": "python3",
      "display_name": "Python 3"
    },
    "language_info": {
      "name": "python"
    }
  },
  "cells": [
    {
      "cell_type": "markdown",
      "metadata": {
        "id": "view-in-github",
        "colab_type": "text"
      },
      "source": [
        "<a href=\"https://colab.research.google.com/github/raimonizard/python/blob/main/Exercici1_%5BSOL%5D.ipynb\" target=\"_parent\"><img src=\"https://colab.research.google.com/assets/colab-badge.svg\" alt=\"Open In Colab\"/></a>"
      ]
    },
    {
      "cell_type": "code",
      "execution_count": null,
      "metadata": {
        "colab": {
          "base_uri": "https://localhost:8080/"
        },
        "id": "raR0byL_NBLv",
        "outputId": "9335ad49-c036-4c45-a673-e1ac3d5dadf4"
      },
      "outputs": [
        {
          "name": "stdout",
          "output_type": "stream",
          "text": [
            "1. Introdueix quantitat de litres consumits\n",
            "2. Calcular factura mensual\n",
            "3. Sortir\n",
            "Escull una opció: as\n",
            "ERROR: Valor incorrecte!\n",
            "Escull una opció: 1\n",
            "Escriu el consum de litres mensual: 200\n",
            "1. Introdueix quantitat de litres consumits\n",
            "2. Calcular factura mensual\n",
            "3. Sortir\n",
            "Escull una opció: 2\n",
            "La teva factura suma :26.0€\n",
            "1. Introdueix quantitat de litres consumits\n",
            "2. Calcular factura mensual\n",
            "3. Sortir\n",
            "Escull una opció: 2\n",
            "Opció incorrecte!\n",
            "1. Introdueix quantitat de litres consumits\n",
            "2. Calcular factura mensual\n",
            "3. Sortir\n",
            "Escull una opció: 1555\n",
            "Opció incorrecte!\n",
            "1. Introdueix quantitat de litres consumits\n",
            "2. Calcular factura mensual\n",
            "3. Sortir\n",
            "Escull una opció: 2\n",
            "Opció incorrecte!\n",
            "1. Introdueix quantitat de litres consumits\n",
            "2. Calcular factura mensual\n",
            "3. Sortir\n",
            "Escull una opció: 2\n",
            "Opció incorrecte!\n",
            "1. Introdueix quantitat de litres consumits\n",
            "2. Calcular factura mensual\n",
            "3. Sortir\n",
            "Escull una opció: 1\n",
            "Escriu el consum de litres mensual: 11115\n",
            "1. Introdueix quantitat de litres consumits\n",
            "2. Calcular factura mensual\n",
            "3. Sortir\n",
            "Escull una opció: 2\n",
            "La teva factura suma :3340.5€\n",
            "1. Introdueix quantitat de litres consumits\n",
            "2. Calcular factura mensual\n",
            "3. Sortir\n",
            "Escull una opció: 3\n"
          ]
        }
      ],
      "source": [
        "'''\n",
        "1- Càlcul de la factura de consum de l’aigua\n",
        "Escriu un algoritme que permeti a l’usuari calcular el consum d’aigua en un domicili. Calcula la\n",
        "factura de l’aigua, donats els litres d’aigua gastats per l’usuari i sabent el següent:\n",
        "\n",
        "a) Hi ha una quota fixe mensual de 6€ pel servei.\n",
        "b) Si el consum és menor de 50 litres, no es paga la quota variable, només el fixe.\n",
        "c) Si el consum d’aigua es troba entre 50 i 200 litre es factura el litre a 0.1 €.\n",
        "d) Si el consum d’aigua és major a 200 litres es cobra el litre a 0.3 €.\n",
        "\n",
        "Mostra a l’usuari un menú per consola que permeti calcular l’import de la seva factura en funció\n",
        "dels litres d’aigua que ha consumit\n",
        "'''\n",
        "def menu() -> int:\n",
        "    print(\"1. Introdueix quantitat de litres consumits\")\n",
        "    print(\"2. Calcular factura mensual\")\n",
        "    print(\"3. Sortir\")\n",
        "    opcio = llegir_enter(\"Escull una opció: \")\n",
        "    return opcio\n",
        "\n",
        "def llegir_enter(missatge: str) -> int:\n",
        "    while True:\n",
        "        try:\n",
        "            valor = int(input(missatge))\n",
        "            return valor\n",
        "        except ValueError:\n",
        "            print(\"ERROR: Valor incorrecte!\")\n",
        "            continue\n",
        "\n",
        "# Main del programa (controller)\n",
        "def __init__():\n",
        "    litres = 0\n",
        "    opcio = menu()\n",
        "    while opcio != 3:\n",
        "        if opcio == 1:\n",
        "            while(litres <= 0):\n",
        "                litres = llegir_enter(\"Escriu el consum de litres mensual: \")\n",
        "        elif opcio == 2 and litres != 0:\n",
        "            print(\"La teva factura suma :\" + str(calcular_factura(litres)) + \"€\")\n",
        "            litres = 0\n",
        "        else:\n",
        "            print(\"Opció incorrecte!\")\n",
        "        opcio = menu()\n",
        "\n",
        "def calcular_factura(litres: int) -> float:\n",
        "    cost = 6.0\n",
        "    if litres >= 50 and litres <= 200:\n",
        "        cost +=  (litres * 0.1)\n",
        "    else:\n",
        "        cost += (litres * 0.3)\n",
        "    return cost\n",
        "\n",
        "__init__()"
      ]
    }
  ]
}